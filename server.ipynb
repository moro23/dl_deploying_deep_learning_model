{
 "cells": [
  {
   "cell_type": "markdown",
   "metadata": {},
   "source": [
    "## Preliminaries"
   ]
  },
  {
   "cell_type": "code",
   "execution_count": 6,
   "metadata": {},
   "outputs": [],
   "source": [
    "## lets create a directory to store the images that are uploaded to the server\n",
    "dir_name = \"images_uploaded\"\n",
    "if not os.path.exists(dir_name):\n",
    "    os.mkdir(dir_name)\n",
    "\n"
   ]
  },
  {
   "cell_type": "markdown",
   "metadata": {},
   "source": [
    "## Import Libraries"
   ]
  },
  {
   "cell_type": "code",
   "execution_count": 7,
   "metadata": {},
   "outputs": [],
   "source": [
    "import io\n",
    "import uvicorn\n",
    "import numpy as np\n",
    "import nest_asyncio\n",
    "import cv2\n",
    "import cvlib as cv\n",
    "from cvlib.object_detection import draw_bbox\n",
    "from enum import Enum\n",
    "from fastapi import FastAPI, UploadFile, File, HTTPException\n",
    "from fastapi.responses import StreamingResponse"
   ]
  },
  {
   "cell_type": "markdown",
   "metadata": {},
   "source": [
    "## Deploying The Model Using FastAPI"
   ]
  },
  {
   "cell_type": "code",
   "execution_count": 8,
   "metadata": {},
   "outputs": [],
   "source": [
    "## lets create an instance of fastapi and call is app\n",
    "app = FastAPI(title='Deploying a ML model with FastAPI')\n",
    "\n",
    "## lets list all our models \n",
    "class Model(str, Enum):\n",
    "    yolov3tiny = 'yolov3-tiny'\n",
    "    yolov3 = 'yolov3'\n",
    "\n",
    "## lets create an endpoint\n",
    "@app.get('/')\n",
    "def home():\n",
    "    return f'Congratulations! Your API is working as expected. Now head over to http://localhost:8000/docs'\n",
    "\n",
    "## lets create an edpoint for all the predictions\n",
    "@app.post('/predict')\n",
    "def prediction(model: Model, file: UploadFile = File(...)):\n",
    "\n",
    "\n",
    "    ## 2. lets validate the input file\n",
    "\n",
    "    filename = file.filename\n",
    "    fileExtension = filename.split(\".\")[-1] in (\"jpg\", \"jpeg\", \"png\")\n",
    "    if not fileExtension:\n",
    "        raise HTTPException(status_code=415, detail='Unsupported file provided.')\n",
    "\n",
    "    ## 2. lets transform the raw image into a cv2 file\n",
    "\n",
    "    ## lets read image as a stream of bytes\n",
    "    image_stream = io.BytesIO(file.file.read())\n",
    "\n",
    "    ## lets start the stream from the beginning\n",
    "    image_stream.seek(0)\n",
    "\n",
    "    ## lets write the stream of bytes into a numpy array\n",
    "    file_bytes = np.asarray(bytearray(image_stream.read()), dtype=np.uint8)\n",
    "\n",
    "    ## lets decode the numpy array as an image\n",
    "    image = cv2.imdecode(file_bytes, cv2.IMREAD_COLOR) \n",
    "\n",
    "    ## 3. lets run the object detection model\n",
    "\n",
    "    ## lets run object detection\n",
    "    bbox, label, conf = cv.detect_common_objects(image, model=model)\n",
    "\n",
    "    ## lets create image that includes bounding boxes and labels\n",
    "    output_image = draw_bbox(image, bbox, label, conf)\n",
    "\n",
    "    ## lets save it in a folder within the server\n",
    "    cv2.imwrite(f'images_uploaded/{filename}', output_image)\n",
    "\n",
    "    ## 4. lets stream the response back to the client\n",
    "\n",
    "    ## open the saved image for reading in binary model\n",
    "    file_image = open(f'images_uploaded/{filename}', mode='rb')\n",
    "\n",
    "    ## lets return the image as a stream specifying media type\n",
    "    return StreamingResponse(file_image, media_type=\"image/jpeg\")\n"
   ]
  },
  {
   "cell_type": "code",
   "execution_count": 9,
   "metadata": {},
   "outputs": [
    {
     "name": "stderr",
     "output_type": "stream",
     "text": [
      "INFO:     Started server process [14985]\n",
      "INFO:     Waiting for application startup.\n",
      "INFO:     Application startup complete.\n",
      "INFO:     Uvicorn running on http://127.0.0.1:8000 (Press CTRL+C to quit)\n"
     ]
    },
    {
     "name": "stdout",
     "output_type": "stream",
     "text": [
      "INFO:     127.0.0.1:55358 - \"GET /docs HTTP/1.1\" 200 OK\n",
      "INFO:     127.0.0.1:55358 - \"GET /openapi.json HTTP/1.1\" 200 OK\n",
      "INFO:     127.0.0.1:35692 - \"POST /predict?model=yolov3-tiny HTTP/1.1\" 200 OK\n",
      "INFO:     127.0.0.1:46036 - \"GET / HTTP/1.1\" 200 OK\n"
     ]
    },
    {
     "name": "stderr",
     "output_type": "stream",
     "text": [
      "INFO:     Shutting down\n",
      "INFO:     Waiting for application shutdown.\n",
      "INFO:     Application shutdown complete.\n",
      "INFO:     Finished server process [14985]\n"
     ]
    }
   ],
   "source": [
    "## lets allow the server to run interactively\n",
    "nest_asyncio.apply()\n",
    " \n",
    "host = '0.0.0.0' if os.getenv('DOCKER-SETUP') else '127.0.0.1'\n",
    "##\n",
    "uvicorn.run(app, host=host, port=8000)"
   ]
  },
  {
   "cell_type": "code",
   "execution_count": null,
   "metadata": {},
   "outputs": [],
   "source": []
  }
 ],
 "metadata": {
  "interpreter": {
   "hash": "5eb56f0399585ef97057cc8bd61cfa305beb97dcfc7b09bba867632693eec1e8"
  },
  "kernelspec": {
   "display_name": "Python 3.10.7 ('dl_deploying_deep_learning_model-G50MbxWS')",
   "language": "python",
   "name": "python3"
  },
  "language_info": {
   "codemirror_mode": {
    "name": "ipython",
    "version": 3
   },
   "file_extension": ".py",
   "mimetype": "text/x-python",
   "name": "python",
   "nbconvert_exporter": "python",
   "pygments_lexer": "ipython3",
   "version": "3.10.7"
  },
  "orig_nbformat": 4
 },
 "nbformat": 4,
 "nbformat_minor": 2
}
